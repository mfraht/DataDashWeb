{
 "cells": [
  {
   "cell_type": "markdown",
   "source": [
    "# <font color=\"green\">__NumPy Quick Tutorial__ </font>\r\n",
    "***\r\n",
    "NumPy can be used to create n-dimentonal arrays and process them. <br><br>\r\n",
    "You must install numpy before you can run this code: `pip install numpy`"
   ],
   "metadata": {}
  },
  {
   "cell_type": "markdown",
   "source": [
    "\r\n",
    "* The following code will create a 2D array. In NumPy, the array is called <b><font color=\"pink\">\"ndarray\"</font></b> or array for short. But whenever there is a mention to ndarray, it is the NumPy array."
   ],
   "metadata": {}
  },
  {
   "cell_type": "code",
   "execution_count": 1,
   "source": [
    "import numpy as np\r\n",
    "\r\n",
    "a = np.array([[1,2,3],[9,8,7]])\r\n",
    "print(\"The array:\")\r\n",
    "print(a)\r\n",
    "print(\"array has {} dimetions\".format(a.ndim))   # number of dimetions 2\r\n",
    "print(\"array has shape {}\".format(a.shape))  # the shape\r\n",
    "print(\"array has size {}\".format(a.size))  # total number of elements"
   ],
   "outputs": [
    {
     "output_type": "stream",
     "name": "stdout",
     "text": [
      "The array:\n",
      "[[1 2 3]\n",
      " [9 8 7]]\n",
      "array has 2 dimetions\n",
      "array has shape (2, 3)\n",
      "array has size 6\n"
     ]
    }
   ],
   "metadata": {}
  },
  {
   "cell_type": "markdown",
   "source": [
    "* arange can create an array with a start value, stop value and a step\r\n",
    "* arrange can be used for integers or fractional numbers"
   ],
   "metadata": {}
  },
  {
   "cell_type": "code",
   "execution_count": 2,
   "source": [
    "b = np.arange(3, 15, 2) # start by 3, stop 15, step is 2\r\n",
    "print(\"An integer array is {}\".format(b))\r\n",
    "print(\"The array after reshaping to 2 rows and 3 columns using reshape\")\r\n",
    "print(b.reshape(2, 3))\r\n",
    "\r\n",
    "f = np.arange(3, 15, 0.5) # start by 3, stop 15, step is 0.5\r\n",
    "print(\"A fractional array is {}\".format(f))\r\n",
    "print(\"The array after reshaping to 4 rows and 6 columns using reshape\")\r\n",
    "print(f.reshape(4, 6))"
   ],
   "outputs": [
    {
     "output_type": "stream",
     "name": "stdout",
     "text": [
      "An integer array is [ 3  5  7  9 11 13]\n",
      "The array after reshaping to 2 rows and 3 columns using reshape\n",
      "[[ 3  5  7]\n",
      " [ 9 11 13]]\n",
      "A fractional array is [ 3.   3.5  4.   4.5  5.   5.5  6.   6.5  7.   7.5  8.   8.5  9.   9.5\n",
      " 10.  10.5 11.  11.5 12.  12.5 13.  13.5 14.  14.5]\n",
      "The array after reshaping to 4 rows and 6 columns using reshape\n",
      "[[ 3.   3.5  4.   4.5  5.   5.5]\n",
      " [ 6.   6.5  7.   7.5  8.   8.5]\n",
      " [ 9.   9.5 10.  10.5 11.  11.5]\n",
      " [12.  12.5 13.  13.5 14.  14.5]]\n"
     ]
    }
   ],
   "metadata": {}
  },
  {
   "cell_type": "markdown",
   "source": [
    "* We can create arrays with zeros and ones"
   ],
   "metadata": {}
  },
  {
   "cell_type": "code",
   "execution_count": 3,
   "source": [
    "ones = np.ones((2,3))\r\n",
    "print(\"Ones(2,3)\\n\", ones)\r\n",
    "zeros = np.zeros((2,3))\r\n",
    "print(\"Zeros(2,3)\\n\",zeros)"
   ],
   "outputs": [
    {
     "output_type": "stream",
     "name": "stdout",
     "text": [
      "Ones(2,3)\n",
      " [[1. 1. 1.]\n",
      " [1. 1. 1.]]\n",
      "Zeros(2,3)\n",
      " [[0. 0. 0.]\n",
      " [0. 0. 0.]]\n"
     ]
    }
   ],
   "metadata": {}
  },
  {
   "cell_type": "markdown",
   "source": [
    "### Basic Operations\r\n",
    "***\r\n",
    "You can directly apply the operation you want on the array."
   ],
   "metadata": {}
  },
  {
   "cell_type": "code",
   "execution_count": null,
   "source": [
    "print(\"Array after adding 3 to each element: {}\".format(b+3))\r\n",
    "print(\"Array after dividing each element by 2: {}\".format(b/2))\r\n",
    "print(\"Array afterfg squer each element: {}\".format(b**2))\r\n",
    "print(\"Array after squer each element then subtract it: {}\".format(b**2 - b))\r\n",
    "print(\"Array after taking cosine each element * pi: {}\".format(np.cos(b * np.pi)))\r\n"
   ],
   "outputs": [],
   "metadata": {}
  },
  {
   "cell_type": "markdown",
   "source": [
    "### Array Operations\r\n",
    "The default is the elementwise operations. The * operator works on each element. To do Matrix multiplication, use the @ operator"
   ],
   "metadata": {}
  },
  {
   "cell_type": "code",
   "execution_count": null,
   "source": [
    "a1 = np.array([1,2])\r\n",
    "b1 = np.array([[4,5], [2, 3]])\r\n",
    "print(\"Element-wise multiplication:\\n\", a1*b1)\r\n",
    "print(\"Matrix multiplication:\\n\", a1@b1)\r\n"
   ],
   "outputs": [],
   "metadata": {}
  },
  {
   "cell_type": "markdown",
   "source": [
    "Create a random array and get its max, min, average, sum, and sorted values"
   ],
   "metadata": {}
  },
  {
   "cell_type": "code",
   "execution_count": null,
   "source": [
    "rg = np.random.default_rng(1)     # create instance of default random number generator\r\n",
    "ra = rg.random((2,3))\r\n",
    "print(\"Random array:\\n{}\".format(ra))\r\n",
    "print(\"Random array sum: {}\".format(ra.sum()))\r\n",
    "print(\"Random array min: {}\".format(ra.min()))\r\n",
    "print(\"Random array max: {}\".format(ra.max()))\r\n",
    "print(\"Random array average: {}\".format(np.average(ra)))\r\n",
    "print(\"Random array sorted: {}\".format(np.sort(ra)))"
   ],
   "outputs": [],
   "metadata": {}
  },
  {
   "cell_type": "markdown",
   "source": [
    "## Learn more\r\n",
    "Check NumPy documentations at [https://numpy.org/doc/stable/user/index.html](https://numpy.org/doc/stable/user/index.html)\r\n",
    "<br>\r\n",
    "W3Schools Tutorial: [https://www.w3schools.com/python/numpy/](https://www.w3schools.com/python/numpy/)"
   ],
   "metadata": {}
  }
 ],
 "metadata": {
  "interpreter": {
   "hash": "63fd5069d213b44bf678585dea6b12cceca9941eaf7f819626cde1f2670de90d"
  },
  "kernelspec": {
   "name": "python3",
   "display_name": "Python 3.9.5 64-bit"
  },
  "language_info": {
   "codemirror_mode": {
    "name": "ipython",
    "version": 3
   },
   "file_extension": ".py",
   "mimetype": "text/x-python",
   "name": "python",
   "nbconvert_exporter": "python",
   "pygments_lexer": "ipython3",
   "version": "3.9.5"
  },
  "orig_nbformat": 4
 },
 "nbformat": 4,
 "nbformat_minor": 2
}